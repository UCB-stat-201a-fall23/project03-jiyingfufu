{
 "cells": [
  {
   "cell_type": "markdown",
   "id": "c3136dd8-702f-44fc-a838-ac644aa6ba9f",
   "metadata": {
    "tags": []
   },
   "source": [
    "# 201A November 20th"
   ]
  },
  {
   "cell_type": "markdown",
   "id": "0e6e08b9-da28-436c-8620-8fac8b4cd40c",
   "metadata": {
    "tags": []
   },
   "source": [
    "# jiying guo"
   ]
  },
  {
   "cell_type": "markdown",
   "id": "8aa2fe96-4ed0-47cf-b51d-181619b1d933",
   "metadata": {
    "tags": []
   },
   "source": [
    "# 1 Simulation of Markov Process"
   ]
  },
  {
   "cell_type": "markdown",
   "id": "d461959d-75bf-4ed9-a6b3-0028ab9319dd",
   "metadata": {
    "tags": []
   },
   "source": [
    "## a"
   ]
  },
  {
   "cell_type": "code",
   "execution_count": 5,
   "id": "c9e4c102-02ff-46fe-a18f-e32a96360205",
   "metadata": {
    "tags": []
   },
   "outputs": [],
   "source": [
    "P = [[0.2, 0.7, 0.1],\n",
    "     [0.2, 0.5, 0.3], \n",
    "     [0.2, 0.4, 0.4]]"
   ]
  },
  {
   "cell_type": "markdown",
   "id": "0699f221-100a-4370-8258-407d9c36a94a",
   "metadata": {},
   "source": [
    "## b"
   ]
  },
  {
   "cell_type": "code",
   "execution_count": 11,
   "id": "4a827976-c62e-4f2d-bd01-5ab28b7cfc9b",
   "metadata": {
    "tags": []
   },
   "outputs": [
    {
     "name": "stdout",
     "output_type": "stream",
     "text": [
      "Simulated realization of the Markov Chain: [1, 1, 2, 1, 2, 1, 2, 3, 3, 1, 2]\n"
     ]
    }
   ],
   "source": [
    "import numpy as np\n",
    "X0 = 1\n",
    "\n",
    "n = 10\n",
    "\n",
    "current = X0\n",
    "realization = [current]\n",
    "\n",
    "for _ in range(n):\n",
    "    current = np.random.choice([0, 1, 2], p=P[current])\n",
    "    realization.append(current+1)\n",
    "\n",
    "print(\"Simulated realization of the Markov Chain:\", realization)"
   ]
  },
  {
   "cell_type": "markdown",
   "id": "15188acd-8f38-4739-9541-4e52eb1fde42",
   "metadata": {
    "tags": []
   },
   "source": [
    "# 2 Stationary Distribution"
   ]
  },
  {
   "cell_type": "markdown",
   "id": "f62d56ed-bc0f-41de-ab39-1ff940b166c8",
   "metadata": {
    "tags": []
   },
   "source": [
    "## a"
   ]
  },
  {
   "cell_type": "markdown",
   "id": "e1338e2a-c3c4-4089-92ad-a52ac92e3fac",
   "metadata": {},
   "source": [
    "$$\n",
    "\\mathbf{P^T} = \\begin{bmatrix}\n",
    "0.2 & 0.2 & 0.2 \\\\\n",
    "0.7 & 0.5 & 0.4 \\\\\n",
    "0.1 & 0.3 & 0.4\n",
    "\\end{bmatrix}\n",
    "$$\n",
    "\n",
    "$$P^T\\pi = \\pi$$\n",
    "$$(P^T-I)\\pi = 0$$\n",
    "\n",
    "$$\n",
    "\\left(\n",
    "\\begin{bmatrix}\n",
    "0.2 & 0.2 & 0.2 \\\\\n",
    "0.7 & 0.5 & 0.4 \\\\\n",
    "0.1 & 0.3 & 0.4\n",
    "\\end{bmatrix}\n",
    "-\n",
    "\\begin{bmatrix}\n",
    "1 & 0 & 0 \\\\\n",
    "0 & 1 & 0 \\\\\n",
    "0 & 0 & 1\n",
    "\\end{bmatrix}\n",
    "\\right)\n",
    "*\n",
    "\\begin{bmatrix}\n",
    "\\pi_1\\\\\n",
    "\\pi_2 \\\\\n",
    "\\pi_3\n",
    "\\end{bmatrix}\n",
    "=\n",
    "\\begin{bmatrix}\n",
    "0\\\\\n",
    "0\\\\\n",
    "0\n",
    "\\end{bmatrix}\n",
    "$$\n",
    "\n",
    "$$\n",
    "\\begin{bmatrix}\n",
    "-0.8 & 0.2 & 0.2 \\\\\n",
    "0.7 & -0.5 & 0.4 \\\\\n",
    "0.1 & 0.3 & -0.6\n",
    "\\end{bmatrix}\n",
    "*\n",
    "\\begin{bmatrix}\n",
    "\\pi_1\\\\\n",
    "\\pi_2 \\\\\n",
    "\\pi_3\n",
    "\\end{bmatrix}\n",
    "=\n",
    "\\begin{bmatrix}\n",
    "0\\\\\n",
    "0\\\\\n",
    "0\n",
    "\\end{bmatrix}\n",
    "$$\n",
    "\n",
    "Also, we have $\\pi_1+\\pi_2+\\pi_3=1$\\\n",
    "then,\\\n",
    "$$\n",
    "\\boldsymbol{\\pi}^T=\\begin{bmatrix}\n",
    "\\frac{1}{5} & \\frac{23}{45} & \\frac{13}{45}\n",
    "\\end{bmatrix}\n",
    "$$"
   ]
  },
  {
   "cell_type": "markdown",
   "id": "a4d29f51-39a7-4bb3-a82b-61e1fc72e4e2",
   "metadata": {},
   "source": [
    "It satisfies $\\pi^T*P=\\pi^T$"
   ]
  },
  {
   "cell_type": "code",
   "execution_count": 15,
   "id": "b2e45107-dc66-48d8-b340-6dfbaa1de071",
   "metadata": {
    "tags": []
   },
   "outputs": [],
   "source": [
    "import numpy as np\n",
    "\n",
    "P_T = np.array(P).T\n",
    "\n",
    "I = np.identity(3)\n",
    "\n",
    "#(P_T - I) * pi = 0\n",
    "eigenvalues, eigenvectors = np.linalg.eig(P_T - I)\n"
   ]
  },
  {
   "cell_type": "code",
   "execution_count": 22,
   "id": "bf3f773c-ae29-481b-9cc6-60fb3083d591",
   "metadata": {
    "tags": []
   },
   "outputs": [
    {
     "name": "stdout",
     "output_type": "stream",
     "text": [
      "the stationary state of the process is :  [0.2        0.51111111 0.28888889]\n"
     ]
    }
   ],
   "source": [
    "for i in range(len(eigenvalues)):\n",
    "    if abs(eigenvalues[i]) <= 1e-9:\n",
    "        x = eigenvectors[:,i]/sum(eigenvectors[:,i])\n",
    "print(\"the stationary state of the process is : \",x)"
   ]
  },
  {
   "cell_type": "markdown",
   "id": "6cc64167-77b5-4c43-9ab1-1b7a918c9bb3",
   "metadata": {},
   "source": [
    "## b"
   ]
  },
  {
   "cell_type": "code",
   "execution_count": 103,
   "id": "63599dfd-9f29-4fc6-b6ab-157b35c45d76",
   "metadata": {
    "tags": []
   },
   "outputs": [],
   "source": [
    "import numpy as np\n",
    "import matplotlib.pyplot as plt\n",
    "\n",
    "n = 10\n",
    "p_n = np.array(P).copy()\n",
    "\n",
    "pi_0 = np.array([0.1, 0.5, 0.4])\n",
    "\n",
    "pi_1 = np.array([0.3, 0.4, 0.3])\n",
    "\n",
    "pi_2 = np.array([0.4, 0.3, 0.3])\n",
    "\n",
    "\n",
    "def pin(pi_0,p_n):\n",
    "    \n",
    "    pi_n_T = pi_0.copy()\n",
    "    pi_n = pi_n_T.T\n",
    "    pi = [pi_n]\n",
    "    diff = [np.linalg.norm(pi_n - x)**2]\n",
    "\n",
    "    for i in range(1,n):\n",
    "        pi_n = pi_n_T.T\n",
    "        pi_n_T = pi_n.T @ p_n\n",
    "        p_n = p_n @ P\n",
    "        pi.append(pi_n.T)\n",
    "        diff.append(np.linalg.norm(pi_n_T - x)**2)\n",
    "        \n",
    "    return pi, diff\n",
    "\n",
    "res1 = pin(pi_0,p_n)\n",
    "res2 = pin(pi_1,p_n)\n",
    "res3 = pin(pi_2,p_n)"
   ]
  },
  {
   "cell_type": "code",
   "execution_count": 107,
   "id": "6f90f6d7-00b4-4ac0-af6e-6feef14dda83",
   "metadata": {
    "tags": []
   },
   "outputs": [
    {
     "name": "stdout",
     "output_type": "stream",
     "text": [
      "result 1 is :  [0.2        0.51111111 0.28888889]\n",
      "result 2 is :  [0.2        0.51111111 0.28888889]\n",
      "result 3 is :  [0.2        0.51111111 0.28888889]\n",
      "the stationary state is :  [0.2        0.51111111 0.28888889]\n"
     ]
    }
   ],
   "source": [
    "print(\"result 1 is : \", res1[0][-1])\n",
    "print(\"result 2 is : \", res2[0][-1])\n",
    "print(\"result 3 is : \", res3[0][-1])\n",
    "print(\"the stationary state is : \", x)"
   ]
  },
  {
   "cell_type": "markdown",
   "id": "15d88c4c-b656-4f70-a879-15a052a0c369",
   "metadata": {},
   "source": [
    "the result above is the last one of the result. \\\n",
    "And from the result we can see they are all the same, so this means that $\\pi_i \\rightarrow \\pi_{\\infty}$"
   ]
  },
  {
   "cell_type": "code",
   "execution_count": 109,
   "id": "5290a435-e882-4bf1-9e5e-2ca6803d5836",
   "metadata": {
    "tags": []
   },
   "outputs": [
    {
     "data": {
      "image/png": "[encoded data removed]",
      "text/plain": [
       "<Figure size 640x480 with 1 Axes>"
      ]
     },
     "metadata": {},
     "output_type": "display_data"
    }
   ],
   "source": [
    "plt.plot(np.arange(0, n), res1[1], marker = \".\", markersize = 5, \\\n",
    "         label = 'pi_0=[0.1, 0.5, 0.4]')\n",
    "plt.plot(np.arange(0, n), res2[1], marker = \".\", markersize = 5, \\\n",
    "         label = 'pi_1=[0.3, 0.4, 0.3]')\n",
    "plt.plot(np.arange(0, n), res3[1], marker = \".\", markersize = 5,\\\n",
    "         label = 'pi_2=[0.4, 0.3, 0.3]')\n",
    "plt.xlabel(\"i\")\n",
    "plt.ylabel(\"$|| \\pi_i-\\pi_{\\infty}|| _2 ^2$\")\n",
    "plt.legend()\n",
    "plt.show()"
   ]
  },
  {
   "cell_type": "markdown",
   "id": "0d30669e-2f9b-42b4-9b3f-49575994ccc3",
   "metadata": {},
   "source": [
    "this graph is showing with three different initial conditions $\\pi_0$, $|| \\pi_0-\\pi_{\\infty}|| _2 ^2$ is going to be 0"
   ]
  },
  {
   "cell_type": "markdown",
   "id": "a0f9b5b9-de8f-479b-b465-2aa03021a616",
   "metadata": {
    "tags": []
   },
   "source": [
    "# 3 Absorbing state"
   ]
  },
  {
   "cell_type": "markdown",
   "id": "eb6c50f5-5574-4558-a436-3efdac49a274",
   "metadata": {},
   "source": [
    "## a"
   ]
  },
  {
   "cell_type": "code",
   "execution_count": 142,
   "id": "bcc5b5b3-3742-4169-9b92-459212895bd9",
   "metadata": {
    "tags": []
   },
   "outputs": [],
   "source": [
    "def waittime(n, x0):\n",
    "    wt = 0\n",
    "    current = x0 - 1\n",
    "    for _ in range(n):\n",
    "        current = np.random.choice([0, 1, 2], p=P[current])\n",
    "        wt += 1\n",
    "        if current + 1 == 3:\n",
    "            break\n",
    "    return wt\n",
    "\n",
    "res = []\n",
    "n = 500\n",
    "x0 = 1\n",
    "for _ in range(n):\n",
    "    r0 = waittime(n, x0)\n",
    "    res.append(r0)\n",
    "\n",
    "res1 = []\n",
    "x0 = 2\n",
    "for _ in range(n):\n",
    "    r0 = waittime(n, x0)\n",
    "    res1.append(r0)"
   ]
  },
  {
   "cell_type": "code",
   "execution_count": 150,
   "id": "df555cea-7454-42b1-aff9-998634345bca",
   "metadata": {
    "tags": []
   },
   "outputs": [
    {
     "data": {
      "text/plain": [
       "<matplotlib.legend.Legend at 0x1129de810>"
      ]
     },
     "execution_count": 150,
     "metadata": {},
     "output_type": "execute_result"
    },
    {
     "data": {
      "image/png": "[encoded data removed]",
      "text/plain": [
       "<Figure size 640x480 with 1 Axes>"
      ]
     },
     "metadata": {},
     "output_type": "display_data"
    }
   ],
   "source": [
    "import matplotlib.pyplot as plt\n",
    "plt.hist(res, alpha = 0.6, label = 'x0=1')\n",
    "plt.hist(res1, alpha = 0.6, label = 'x0=2')\n",
    "plt.legend()"
   ]
  },
  {
   "cell_type": "code",
   "execution_count": 144,
   "id": "0dbc6845-c0b7-497c-bbd9-21566d00a4db",
   "metadata": {
    "tags": []
   },
   "outputs": [
    {
     "name": "stdout",
     "output_type": "stream",
     "text": [
      "when x0 = 1, the mean of arrival time is  4.656\n",
      "when x0 = 2, the mean of arrival time is  3.886\n"
     ]
    }
   ],
   "source": [
    "print(\"when x0 = 1, the mean of arrival time is \", np.mean(res))\n",
    "print(\"when x0 = 2, the mean of arrival time is \", np.mean(res1))"
   ]
  },
  {
   "cell_type": "markdown",
   "id": "a4220568-4e36-4f8d-bfa0-1eaa3a345724",
   "metadata": {},
   "source": [
    "## b"
   ]
  },
  {
   "cell_type": "markdown",
   "id": "3d914c93-16e0-4e43-8f61-d628253564d3",
   "metadata": {},
   "source": [
    "since we have \\\n",
    "$\\mu_i = 1 + \\sum_{j=1}^{3} p_{ij} \\mu_j$ \\\n",
    "with $T_3 = 0$ and $\\mu_i = E[T_i]$ \\\n",
    "we have \\\n",
    "$\\mu_1 = 1 + 0.2\\mu_1 + 0.7\\mu_2 + 0.1\\mu_3$ \\\n",
    "$\\mu_2 = 1 + 0.2\\mu_1 + 0.5\\mu_2 + 0.3\\mu_3$ \\\n",
    "$\\mu_3 = 0$ \\\n",
    "then the solution will be\\\n",
    "$\\mu_1 = \\frac{60}{13},\\mu_2 = \\frac{50}{13},\\mu_3 = 0$"
   ]
  },
  {
   "cell_type": "code",
   "execution_count": 145,
   "id": "410dc59a-5ff3-4561-b0fb-23a8284853d4",
   "metadata": {
    "tags": []
   },
   "outputs": [
    {
     "name": "stdout",
     "output_type": "stream",
     "text": [
      "[4.61538462 3.84615385 0.        ]\n"
     ]
    }
   ],
   "source": [
    "import numpy as np\n",
    "A = np.array([[0.8, -0.7, -0.1], [-0.2, 0.5, -0.3], [0, 0, 1]])\n",
    "b = np.array([1, 1, 0])\n",
    "\n",
    "miu = np.linalg.solve(A, b)\n",
    "print(miu)"
   ]
  },
  {
   "cell_type": "markdown",
   "id": "d21fcc69-d819-482a-ab1f-8fba5a4e61ac",
   "metadata": {},
   "source": [
    "Compared this solution with the result in part a"
   ]
  },
  {
   "cell_type": "code",
   "execution_count": 149,
   "id": "43bb9053-b40d-43bb-ac64-f2777bffaa55",
   "metadata": {
    "tags": []
   },
   "outputs": [
    {
     "name": "stdout",
     "output_type": "stream",
     "text": [
      "result in part a\n",
      "when x0 = 1:  4.656\n",
      "when x0 = 2:  3.886\n"
     ]
    }
   ],
   "source": [
    "print(\"result in part a\")\n",
    "print(\"when x0 = 1: \", np.mean(res))\n",
    "print(\"when x0 = 2: \", np.mean(res1))"
   ]
  },
  {
   "cell_type": "markdown",
   "id": "8e52d039-ee07-4bd9-aba1-7ac54a0ea168",
   "metadata": {},
   "source": [
    "we can see they are almost the same"
   ]
  }
 ],
 "metadata": {
  "kernelspec": {
   "display_name": "Python 3 (ipykernel)",
   "language": "python",
   "name": "python3"
  },
  "language_info": {
   "codemirror_mode": {
    "name": "ipython",
    "version": 3
   },
   "file_extension": ".py",
   "mimetype": "text/x-python",
   "name": "python",
   "nbconvert_exporter": "python",
   "pygments_lexer": "ipython3",
   "version": "3.11.4"
  }
 },
 "nbformat": 4,
 "nbformat_minor": 5
}
